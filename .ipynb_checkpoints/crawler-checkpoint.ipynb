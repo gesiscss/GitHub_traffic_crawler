{
 "cells": [
  {
   "cell_type": "code",
   "execution_count": 1,
   "metadata": {},
   "outputs": [
    {
     "name": "stderr",
     "output_type": "stream",
     "text": [
      "c:\\users\\popovirr\\appdata\\local\\programs\\python\\python36-32\\lib\\site-packages\\matplotlib\\pyplot.py:537: RuntimeWarning: More than 20 figures have been opened. Figures created through the pyplot interface (`matplotlib.pyplot.figure`) are retained until explicitly closed and may consume too much memory. (To control this warning, see the rcParam `figure.max_open_warning`).\n",
      "  max_open_warning, RuntimeWarning)\n"
     ]
    },
    {
     "name": "stdout",
     "output_type": "stream",
     "text": [
      "\n",
      "\n",
      "\n",
      "Merging..\n",
      "\n",
      "\n",
      "\n",
      "[<PIL.PngImagePlugin.PngImageFile image mode=RGBA size=546x430 at 0xDBF2650>, <PIL.PngImagePlugin.PngImageFile image mode=RGBA size=546x430 at 0xDBF25F0>, <PIL.PngImagePlugin.PngImageFile image mode=RGBA size=555x430 at 0xDEDF690>, <PIL.PngImagePlugin.PngImageFile image mode=RGBA size=555x430 at 0xDEDF890>, <PIL.PngImagePlugin.PngImageFile image mode=RGBA size=551x430 at 0xDEDF8D0>, <PIL.PngImagePlugin.PngImageFile image mode=RGBA size=538x430 at 0xDEDF930>, <PIL.PngImagePlugin.PngImageFile image mode=RGBA size=555x430 at 0xDEDF970>, <PIL.PngImagePlugin.PngImageFile image mode=RGBA size=555x430 at 0xDEDF9B0>, <PIL.PngImagePlugin.PngImageFile image mode=RGBA size=560x430 at 0xDEDF9F0>, <PIL.PngImagePlugin.PngImageFile image mode=RGBA size=546x430 at 0xDEDF910>, <PIL.PngImagePlugin.PngImageFile image mode=RGBA size=555x430 at 0xDEDFA50>, <PIL.PngImagePlugin.PngImageFile image mode=RGBA size=538x430 at 0xDEDFA90>, <PIL.PngImagePlugin.PngImageFile image mode=RGBA size=555x430 at 0xDEDFAD0>, <PIL.PngImagePlugin.PngImageFile image mode=RGBA size=546x430 at 0xDEDFB10>, <PIL.PngImagePlugin.PngImageFile image mode=RGBA size=560x430 at 0xDEDFB50>, <PIL.PngImagePlugin.PngImageFile image mode=RGBA size=546x430 at 0xDEDFB90>, <PIL.PngImagePlugin.PngImageFile image mode=RGBA size=538x430 at 0xDEDFBD0>, <PIL.PngImagePlugin.PngImageFile image mode=RGBA size=546x430 at 0xDEDFC10>, <PIL.PngImagePlugin.PngImageFile image mode=RGBA size=546x430 at 0xDEDFC50>, <PIL.PngImagePlugin.PngImageFile image mode=RGBA size=546x430 at 0xDEDFC90>, <PIL.PngImagePlugin.PngImageFile image mode=RGBA size=546x430 at 0xDEDFCD0>, <PIL.PngImagePlugin.PngImageFile image mode=RGBA size=568x430 at 0xDEDFD10>]\n",
      "\n",
      "\n",
      "\n",
      "Total views..\n",
      "\n",
      "\n",
      "\n",
      "\n",
      "\n",
      "\\Done.\n",
      "Referrers table:  [['binderhub_referrers', 'github.com', 63, 22, '', '', ''], ['flow_referrers', 'github.com', 26, 5, '', '', ''], ['GitHub_traffic_crawler_referrers', 'github.com', 234, 14, '', '', ''], ['Hierarchical_nested_SBM_referrers', 'github.com', 109, 15, 'Google', 1, 1], ['Homophilic-Ntw-Viz_referrers', 'github.com', 9, 2, '', '', ''], ['image-gender-inference_referrers', 'github.com', 15, 7, 'Google', 4, 4], ['introduction_networkx_referrers', 'github.com', 22, 8, '', '', ''], ['jhub_shibboleth_auth_referrers', 'github.com', 83, 29, 'Google', 27, 7], ['jupyterhub_referrers', 'github.com', 6, 4, '', '', ''], ['kubespawner_referrers', 'github.com', 13, 7, '', '', ''], ['mlkoblenz_referrers', 'github.com', 4, 1, '', '', ''], ['orc_referrers', 'binderhub.readthedocs.io', 132, 65, 'Google', 5, 5], ['promoss_referrers', 'topicmodels.info', 24, 5, 'Google', 2, 1], ['ptm_referrers', 'Google', 12, 3, 'Google', 12, 3], ['PythonDataScienceHandbook_referrers', 'notebooks.gesis.org', 36, 10, 'github.com', 12, 7], ['repo2docker_referrers', 'github.com', 2, 2, '', '', ''], ['scientists-analysis_referrers', 'github.com', 12, 2, '', '', ''], ['scientists-analysis-wikipedia_referrers', 'github.com', 5, 3, 'Google', 2, 2], ['WebApp_referrers', 'github.com', 5, 1, '', '', ''], ['wiki-download-parse-page-views_referrers', 'Google', 35, 27, 'Google', 35, 27], ['WikiConflict_referrers', 'github.com', 7, 3, '', '', ''], ['Wikipedia-Language-Olga-master_referrers', 'Google', 65, 64, 'Google', 65, 64], ['Wikipedia-Politician-Network_referrers', 'github.com', 59, 11, 'Google', 4, 2], ['wikiwho_interactions_referrers', 'github.com', 11, 3, '', '', ''], ['wiki_history_referrers', 'github.com', 2, 2, '', '', ''], ['workshop_girls_day_referrers', 'Google', 46, 37, 'Google', 46, 37], ['zero-to-jupyterhub-k8s_referrers', 'github.com', 5, 2, '', '', '']]\n"
     ]
    },
    {
     "name": "stderr",
     "output_type": "stream",
     "text": [
      "c:\\users\\popovirr\\appdata\\local\\programs\\python\\python36-32\\lib\\site-packages\\matplotlib\\pyplot.py:537: RuntimeWarning: More than 20 figures have been opened. Figures created through the pyplot interface (`matplotlib.pyplot.figure`) are retained until explicitly closed and may consume too much memory. (To control this warning, see the rcParam `figure.max_open_warning`).\n",
      "  max_open_warning, RuntimeWarning)\n",
      "c:\\users\\popovirr\\appdata\\local\\programs\\python\\python36-32\\lib\\site-packages\\matplotlib\\pyplot.py:537: RuntimeWarning: More than 20 figures have been opened. Figures created through the pyplot interface (`matplotlib.pyplot.figure`) are retained until explicitly closed and may consume too much memory. (To control this warning, see the rcParam `figure.max_open_warning`).\n",
      "  max_open_warning, RuntimeWarning)\n"
     ]
    }
   ],
   "source": [
    "from Visualization import basicPlot"
   ]
  },
  {
   "cell_type": "code",
   "execution_count": null,
   "metadata": {},
   "outputs": [],
   "source": []
  }
 ],
 "metadata": {
  "kernelspec": {
   "display_name": "Python 3",
   "language": "python",
   "name": "python3"
  },
  "language_info": {
   "codemirror_mode": {
    "name": "ipython",
    "version": 3
   },
   "file_extension": ".py",
   "mimetype": "text/x-python",
   "name": "python",
   "nbconvert_exporter": "python",
   "pygments_lexer": "ipython3",
   "version": "3.6.6"
  }
 },
 "nbformat": 4,
 "nbformat_minor": 1
}

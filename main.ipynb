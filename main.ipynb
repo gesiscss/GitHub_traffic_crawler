{
 "cells": [
  {
   "cell_type": "markdown",
   "metadata": {},
   "source": [
    "# This jupyter file is only generating the data, not presenting it"
   ]
  },
  {
   "cell_type": "code",
   "execution_count": 3,
   "metadata": {},
   "outputs": [],
   "source": [
    "from DataRetrieval import setupConfigFile as setup\n",
    "from DataRetrieval import readJson as rj"
   ]
  },
  {
   "cell_type": "markdown",
   "metadata": {},
   "source": [
    "First of all, we want to get the names of all of our repositories, in order to get the data from each one of them. \n",
    "\n",
    "\"generateConfigFiles()\" method will get the list of the names of repositories for us. Each one of the repositories, will have their own config.ini file, which will contain repository name and auth token from github. "
   ]
  },
  {
   "cell_type": "code",
   "execution_count": null,
   "metadata": {},
   "outputs": [],
   "source": [
    "setup.generateConfigFiles()"
   ]
  },
  {
   "cell_type": "markdown",
   "metadata": {},
   "source": [
    "So now we have a bunch of config.ini files. In order to be more efficient, \n",
    "we will make only one .bat file which will use all of these .ini files, and will contain a list of \n",
    "commands to get the data from each repository:"
   ]
  },
  {
   "cell_type": "code",
   "execution_count": null,
   "metadata": {},
   "outputs": [],
   "source": [
    "setup.updateBatFile()"
   ]
  },
  {
   "cell_type": "markdown",
   "metadata": {},
   "source": [
    "Let's run now the .bat file which will get these information about our repositories:\n",
    "- clones\n",
    "- views\n",
    "- refferers\n",
    "- path"
   ]
  },
  {
   "cell_type": "code",
   "execution_count": null,
   "metadata": {},
   "outputs": [],
   "source": [
    "directory = os.path.dirname(os.getcwd()+\"\\GesisTraffic\")\n",
    "os.system(directory+\"\\\\setup.bat\")"
   ]
  },
  {
   "cell_type": "markdown",
   "metadata": {},
   "source": [
    "If no errors are shown, we are good to go! For displaying the data in tabular form, you can open \"regularCrawler.ipynb\". In case you are interested in the current visualization methods, feel free to go to file called \"visualization.ipynb\""
   ]
  }
 ],
 "metadata": {
  "kernelspec": {
   "display_name": "Python 3",
   "language": "python",
   "name": "python3"
  },
  "language_info": {
   "codemirror_mode": {
    "name": "ipython",
    "version": 3
   },
   "file_extension": ".py",
   "mimetype": "text/x-python",
   "name": "python",
   "nbconvert_exporter": "python",
   "pygments_lexer": "ipython3",
   "version": "3.6.6"
  }
 },
 "nbformat": 4,
 "nbformat_minor": 2
}
